{
  "nbformat": 4,
  "nbformat_minor": 0,
  "metadata": {
    "colab": {
      "name": "11. CrossValidation_and_GirdSearch.ipynb",
      "provenance": [],
      "collapsed_sections": [],
      "authorship_tag": "ABX9TyNUvwofEJy02AvK2HAYWF/7",
      "include_colab_link": true
    },
    "kernelspec": {
      "name": "python3",
      "display_name": "Python 3"
    },
    "language_info": {
      "name": "python"
    }
  },
  "cells": [
    {
      "cell_type": "markdown",
      "metadata": {
        "id": "view-in-github",
        "colab_type": "text"
      },
      "source": [
        "<a href=\"https://colab.research.google.com/github/shinasto/scikit-learn/blob/main/11_CrossValidation_and_GirdSearch.ipynb\" target=\"_parent\"><img src=\"https://colab.research.google.com/assets/colab-badge.svg\" alt=\"Open In Colab\"/></a>"
      ]
    },
    {
      "cell_type": "code",
      "metadata": {
        "id": "bcw_V5X_J8HN"
      },
      "source": [
        "# 테스트 세트를 사용하지 않고 이를 측정하는 간단한 방법은 훈련 세트를 또 나누는 것. 이 데이터를 검증 세트(validation set) 라고 부릅니다.\n",
        "# 훈련세트 60%, 검증세트 20%, 테스트 세트 20%\n",
        "\n",
        "# 교차 검증\n",
        "# 교차 검증은 검증 세트를 떼어 내어 평가하는 과정을 여러 번 반복\n",
        "# 그 다음 이 점수를 평균하여 최종 검증 점수를 얻습니다.\n",
        "# 5-폴드 교차 검증, 10-폴트 교차 검증 을 많이 사용함 (데이터의 80~90% 까지 훈련에 사용 가능)\n",
        "# 훈련 세트를 n 부분으로 나눠서 교차 검증을 수행하는 것을 n-폴트 교차 검증이라 함.\n",
        "\n",
        "import pandas as pd\n",
        "wine = pd.read_csv('https://bit.ly/wine_csv_data')\n",
        "\n",
        "data = wine[['alcohol', 'sugar', 'pH']].to_numpy()\n",
        "target = wine['class'].to_numpy()"
      ],
      "execution_count": 1,
      "outputs": []
    },
    {
      "cell_type": "code",
      "metadata": {
        "id": "tJmLkQcTMJZt"
      },
      "source": [
        "from sklearn.model_selection import train_test_split\n",
        "train_input, test_input, train_target, tet_target = train_test_split(data, target, test_size=0.2, random_state=42)"
      ],
      "execution_count": 5,
      "outputs": []
    },
    {
      "cell_type": "code",
      "metadata": {
        "colab": {
          "base_uri": "https://localhost:8080/"
        },
        "id": "kgVhMLKNMXrx",
        "outputId": "0e41cdc8-4f24-4353-dd07-120605e51a74"
      },
      "source": [
        "# 교차 검증 함수(cross_validate)\n",
        "\n",
        "from sklearn.model_selection import cross_validate\n",
        "from sklearn.tree import DecisionTreeClassifier\n",
        "\n",
        "dt = DecisionTreeClassifier(random_state=42)\n",
        "scores = cross_validate(dt, train_input, train_target)\n",
        "print(scores)\n",
        "\n",
        "# fit_time : 훈련시간\n",
        "# score_time : 검증시간\n",
        "# test_score : 검증 점수  => 모든 검증 점수 평균이 교차 검증의 최종 점수"
      ],
      "execution_count": 8,
      "outputs": [
        {
          "output_type": "stream",
          "name": "stdout",
          "text": [
            "{'fit_time': array([0.00922108, 0.0079329 , 0.00762463, 0.007411  , 0.00709963]), 'score_time': array([0.00090981, 0.00079226, 0.00076056, 0.0007515 , 0.00073051]), 'test_score': array([0.86923077, 0.84615385, 0.87680462, 0.84889317, 0.83541867])}\n"
          ]
        }
      ]
    },
    {
      "cell_type": "code",
      "metadata": {
        "colab": {
          "base_uri": "https://localhost:8080/"
        },
        "id": "XQBPaykFOHVm",
        "outputId": "6df23e5f-d345-45f7-8e5e-d0ee1c41e2d0"
      },
      "source": [
        "# 교차 검증 점수 \n",
        "import numpy as np\n",
        "print(np.mean(scores['test_score']))"
      ],
      "execution_count": 9,
      "outputs": [
        {
          "output_type": "stream",
          "name": "stdout",
          "text": [
            "0.855300214703487\n"
          ]
        }
      ]
    },
    {
      "cell_type": "code",
      "metadata": {
        "colab": {
          "base_uri": "https://localhost:8080/"
        },
        "id": "F0lsCaxFOWFT",
        "outputId": "5f479e2e-2984-4ee2-d81b-ab91df7b8b84"
      },
      "source": [
        "# cross_validate() 는 훈련 세트를 섞어 폴트를 나누지 않음\n",
        "# 그래서 앞서 train_test_split() 함수로 전체 데이터를 섞은 후 훈련 세트를 준비\n",
        "# 교차 검증 할때 훈련 세트를 섞으려면 분한기를 지정해야함 (KFold)\n",
        "from sklearn.model_selection import StratifiedKFold\n",
        "\n",
        "scores = cross_validate(dt, train_input, train_target, cv=StratifiedKFold())\n",
        "print(np.mean(scores['test_score']))"
      ],
      "execution_count": 11,
      "outputs": [
        {
          "output_type": "stream",
          "name": "stdout",
          "text": [
            "0.855300214703487\n"
          ]
        }
      ]
    },
    {
      "cell_type": "code",
      "metadata": {
        "colab": {
          "base_uri": "https://localhost:8080/"
        },
        "id": "9UVpOMBUPA_-",
        "outputId": "bbd4dc12-b905-4aaf-a053-ce0af62f37a7"
      },
      "source": [
        "# 만약 10-폴트 교차 검증을 수행하려면 다음과 같이 작성\n",
        "\n",
        "splitter = StratifiedKFold(n_splits=10, shuffle=True, random_state=42)\n",
        "scores = cross_validate(dt, train_input, train_target, cv=splitter)\n",
        "print(np.mean(scores['test_score']))"
      ],
      "execution_count": 12,
      "outputs": [
        {
          "output_type": "stream",
          "name": "stdout",
          "text": [
            "0.8574181117533719\n"
          ]
        }
      ]
    },
    {
      "cell_type": "code",
      "metadata": {
        "colab": {
          "base_uri": "https://localhost:8080/"
        },
        "id": "9K3vXfHkPWN_",
        "outputId": "020170bb-53e9-4872-8bfa-93dd67b2607e"
      },
      "source": [
        "# 하이퍼파라미터 튜닝\n",
        "# 머신러닝 모델이 학습하는 파라미터를 모델 파라미터라고 부르고\n",
        "# 반면 사용자가 지정해야만 하는 파라미터를 하이퍼파라미터라 함.\n",
        "# 하이퍼파라미터를 튜닝하는 자동으로 수행하는 기술을 AutoML 이라고 부름\n",
        "\n",
        "# 사이킷 런에서 제공하는 그리드 서치(Grid Search) 를 사용하면 복잡한 매개변수의 반복 과정을 직접 구현할 필요 없음.\n",
        "# GridSearchCV 클래스는 하이퍼파라미터 탐색과 교차 검증을 한 번에 수행함.\n",
        "\n",
        "from sklearn.model_selection import GridSearchCV\n",
        "\n",
        "# min_impurity_decrease 매개변수의 최적값을 찾아보자.\n",
        "params = {'min_impurity_decrease': [0.0001, 0.0002, 0.0003, 0.0004, 0.0005]}\n",
        "\n",
        "gs = GridSearchCV(DecisionTreeClassifier(random_state=42), params, n_jobs=-1)\n",
        "\n",
        "# 그리드 서치 객체는 결정 트리 모델 min_impurity_decrease 값을 바궈가면 총 5번 실행\n",
        "gs.fit(train_input, train_target)\n",
        "\n",
        "# GridSearchCV의 cv 매개변수 기본값은 5이므로 총 5x5=25 개의 모델을 훈련\n",
        "# 검증 점수가 가장 높은 모델의 매개변수 조합으로 전체 훈련 세트에서 자동으로 다시 모델을 훈련함.\n",
        "# 그 결과는 beat_estimator_ 속성에 저장\n",
        "dt = gs.best_estimator_\n",
        "print(dt.score(train_input, train_target))"
      ],
      "execution_count": 14,
      "outputs": [
        {
          "output_type": "stream",
          "name": "stdout",
          "text": [
            "0.9615162593804117\n"
          ]
        }
      ]
    },
    {
      "cell_type": "code",
      "metadata": {
        "colab": {
          "base_uri": "https://localhost:8080/"
        },
        "id": "MYQzkzmRRnht",
        "outputId": "5fd01e0a-4cfc-4391-aaa9-06460649c115"
      },
      "source": [
        "# best_params에 최적의 파라미터 저장\n",
        "print(gs.best_params_)"
      ],
      "execution_count": 15,
      "outputs": [
        {
          "output_type": "stream",
          "name": "stdout",
          "text": [
            "{'min_impurity_decrease': 0.0001}\n"
          ]
        }
      ]
    },
    {
      "cell_type": "code",
      "metadata": {
        "colab": {
          "base_uri": "https://localhost:8080/"
        },
        "id": "5tcJL-QyQMjx",
        "outputId": "8af99933-01d7-40f8-d3d9-02ffe39613f6"
      },
      "source": [
        "# 5번의 교차 검증으로 얻은 점수\n",
        "print(gs.cv_results_['mean_test_score'])"
      ],
      "execution_count": 16,
      "outputs": [
        {
          "output_type": "stream",
          "name": "stdout",
          "text": [
            "[0.86819297 0.86453617 0.86492226 0.86780891 0.86761605]\n"
          ]
        }
      ]
    },
    {
      "cell_type": "code",
      "metadata": {
        "colab": {
          "base_uri": "https://localhost:8080/"
        },
        "id": "gYnd_wZySFVu",
        "outputId": "7b9a52f1-7fe6-4edf-cca0-fd10472b4cfd"
      },
      "source": [
        "# 이번에는 더 복잡한 매개변수 조합을 탐색해 보자.\n",
        "# 매개변수: max_depth, min_samples_split, min_impurity_decrese \n",
        "params = {'min_impurity_decrease': np.arange(0.0001, 0.001, 0.0001),\n",
        "          'max_depth': range(5, 20 ,1),\n",
        "          'min_samples_split': range(2, 100, 10)}\n",
        "\n",
        "# 위 매개변수로 수행할 교차 검증 횟수는 9*15*10=1350, 1350*5(5-폴트 교차) = 6750 \n",
        "\n",
        "gs = GridSearchCV(DecisionTreeClassifier(random_state=42), params, n_jobs=-1)\n",
        "gs.fit(train_input, train_target)\n",
        "print(gs.best_params_)\n",
        "\n",
        "#GridSearchCV 클래스를 사용하니 매개변수를 일일이 바꿔가면 교차 검증을 수행하지 않고 원하는 \n",
        "# 매개 변수 값을 나열하면 자동으로 교차 검증을 수행해서 최상의 매개변수를 찾을 수 있음."
      ],
      "execution_count": 19,
      "outputs": [
        {
          "output_type": "stream",
          "name": "stdout",
          "text": [
            "{'max_depth': 14, 'min_impurity_decrease': 0.0004, 'min_samples_split': 12}\n"
          ]
        }
      ]
    },
    {
      "cell_type": "code",
      "metadata": {
        "colab": {
          "base_uri": "https://localhost:8080/"
        },
        "id": "LEc78FRHTmSx",
        "outputId": "db2ac23a-8af8-4803-9baf-f176e268a5e2"
      },
      "source": [
        "# 랜덤 서치\n",
        "# 매개변수 값의 목록을 전달하는 것이 아니라 매개변수를 샘플링할 수 있는 확률 분포객체를 전달합니다.\n",
        "\n",
        "from scipy.stats import uniform, randint\n",
        "\n",
        "# radint 범위를 지정, rvs로 지정된 개수만큼 값을 뽑음\n",
        "rgen = randint(0, 10)\n",
        "rgen.rvs(10)"
      ],
      "execution_count": 22,
      "outputs": [
        {
          "output_type": "execute_result",
          "data": {
            "text/plain": [
              "array([7, 7, 6, 0, 5, 5, 8, 6, 7, 5])"
            ]
          },
          "metadata": {},
          "execution_count": 22
        }
      ]
    },
    {
      "cell_type": "code",
      "metadata": {
        "colab": {
          "base_uri": "https://localhost:8080/"
        },
        "id": "8MTxOqK3UPpf",
        "outputId": "c9a22f7b-a968-4bc3-e9b8-50d718fe3c0b"
      },
      "source": [
        "np.unique(rgen.rvs(1000), return_counts=True)"
      ],
      "execution_count": 23,
      "outputs": [
        {
          "output_type": "execute_result",
          "data": {
            "text/plain": [
              "(array([0, 1, 2, 3, 4, 5, 6, 7, 8, 9]),\n",
              " array([100,  94, 112,  86, 103, 103,  85, 112, 105, 100]))"
            ]
          },
          "metadata": {},
          "execution_count": 23
        }
      ]
    },
    {
      "cell_type": "code",
      "metadata": {
        "colab": {
          "base_uri": "https://localhost:8080/"
        },
        "id": "LN56VHRmUVKQ",
        "outputId": "e69c31a5-8a13-4253-c56e-699da06d312c"
      },
      "source": [
        "# 0~1 사이의 실수 추출\n",
        "ugen = uniform(0, 1) \n",
        "ugen.rvs(10)"
      ],
      "execution_count": 24,
      "outputs": [
        {
          "output_type": "execute_result",
          "data": {
            "text/plain": [
              "array([0.50969902, 0.58477369, 0.02224619, 0.40327759, 0.34574416,\n",
              "       0.60518626, 0.14676692, 0.75908952, 0.26077516, 0.72401745])"
            ]
          },
          "metadata": {},
          "execution_count": 24
        }
      ]
    },
    {
      "cell_type": "code",
      "metadata": {
        "colab": {
          "base_uri": "https://localhost:8080/"
        },
        "id": "ckRf5YRSUcQ_",
        "outputId": "7c53f49e-304b-48db-a351-57106d7ca165"
      },
      "source": [
        "params = {'min_impurity_decrease': uniform(0.0001, 0.001),\n",
        "          'max_depth': randint(20, 50),\n",
        "          'min_samples_split': randint(2, 25),\n",
        "          'min_samples_leaf': randint(1, 25)}\n",
        "\n",
        "from sklearn.model_selection import RandomizedSearchCV\n",
        "# n_iter : 샘플링 횟수\n",
        "gs = RandomizedSearchCV(DecisionTreeClassifier(random_state=42), params, n_iter=100, n_jobs=-1, random_state=42)\n",
        "gs.fit(train_input, train_target)"
      ],
      "execution_count": 26,
      "outputs": [
        {
          "output_type": "execute_result",
          "data": {
            "text/plain": [
              "RandomizedSearchCV(cv=None, error_score=nan,\n",
              "                   estimator=DecisionTreeClassifier(ccp_alpha=0.0,\n",
              "                                                    class_weight=None,\n",
              "                                                    criterion='gini',\n",
              "                                                    max_depth=None,\n",
              "                                                    max_features=None,\n",
              "                                                    max_leaf_nodes=None,\n",
              "                                                    min_impurity_decrease=0.0,\n",
              "                                                    min_impurity_split=None,\n",
              "                                                    min_samples_leaf=1,\n",
              "                                                    min_samples_split=2,\n",
              "                                                    min_weight_fraction_leaf=0.0,\n",
              "                                                    presort='deprecated',\n",
              "                                                    random_state=42,\n",
              "                                                    splitter='best'),...\n",
              "                                        'min_impurity_decrease': <scipy.stats._distn_infrastructure.rv_frozen object at 0x7faf3afdbc10>,\n",
              "                                        'min_samples_leaf': <scipy.stats._distn_infrastructure.rv_frozen object at 0x7faf3ac019d0>,\n",
              "                                        'min_samples_split': <scipy.stats._distn_infrastructure.rv_frozen object at 0x7faf3ae8f890>},\n",
              "                   pre_dispatch='2*n_jobs', random_state=42, refit=True,\n",
              "                   return_train_score=False, scoring=None, verbose=0)"
            ]
          },
          "metadata": {},
          "execution_count": 26
        }
      ]
    },
    {
      "cell_type": "code",
      "metadata": {
        "colab": {
          "base_uri": "https://localhost:8080/"
        },
        "id": "Uo0BU3A2VPE8",
        "outputId": "594c8c44-a9e8-4853-96bd-0513e9534e37"
      },
      "source": [
        "print(gs.best_params_)"
      ],
      "execution_count": 27,
      "outputs": [
        {
          "output_type": "stream",
          "name": "stdout",
          "text": [
            "{'max_depth': 39, 'min_impurity_decrease': 0.00034102546602601173, 'min_samples_leaf': 7, 'min_samples_split': 13}\n"
          ]
        }
      ]
    },
    {
      "cell_type": "code",
      "metadata": {
        "colab": {
          "base_uri": "https://localhost:8080/"
        },
        "id": "lf2n238MVk5x",
        "outputId": "42ec13b6-77d5-4b3a-fb73-3412f8353ae8"
      },
      "source": [
        "# 최고의 교차 검증 점수\n",
        "print(np.max(gs.cv_results_['mean_test_score']))"
      ],
      "execution_count": 29,
      "outputs": [
        {
          "output_type": "stream",
          "name": "stdout",
          "text": [
            "0.8695428296438884\n"
          ]
        }
      ]
    },
    {
      "cell_type": "code",
      "metadata": {
        "colab": {
          "base_uri": "https://localhost:8080/"
        },
        "id": "PORtkE6EVt_-",
        "outputId": "04f7ecea-87c3-4d4c-f23c-15da305a8961"
      },
      "source": [
        "# best_estimator_ 에 저장된 최종 모델로 테스트 세트의 성능 확인\n",
        "dt = gs.best_estimator_\n",
        "print(dt.score(test_input, tet_target))"
      ],
      "execution_count": 31,
      "outputs": [
        {
          "output_type": "stream",
          "name": "stdout",
          "text": [
            "0.86\n"
          ]
        }
      ]
    }
  ]
}